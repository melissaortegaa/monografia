{
 "cells": [
  {
   "cell_type": "markdown",
   "metadata": {},
   "source": [
    "Monografia - Parte 2\n",
    "\n",
    "Especialización en Analítica y Ciencia de Datos\n",
    "\n",
    "Universidad de Antioquia\n",
    "\n",
    "Grupo 3. Melissa Ortega Alzate CC.1036964792"
   ]
  },
  {
   "cell_type": "markdown",
   "metadata": {},
   "source": [
    "# Objetivo"
   ]
  },
  {
   "cell_type": "markdown",
   "metadata": {},
   "source": [
    "# Resumen"
   ]
  },
  {
   "cell_type": "markdown",
   "metadata": {},
   "source": [
    "# Librerías"
   ]
  },
  {
   "cell_type": "code",
   "execution_count": 1,
   "metadata": {},
   "outputs": [
    {
     "name": "stderr",
     "output_type": "stream",
     "text": [
      "2024-03-28 19:29:23.101515: I tensorflow/core/util/port.cc:113] oneDNN custom operations are on. You may see slightly different numerical results due to floating-point round-off errors from different computation orders. To turn them off, set the environment variable `TF_ENABLE_ONEDNN_OPTS=0`.\n",
      "2024-03-28 19:29:23.172494: I external/local_tsl/tsl/cuda/cudart_stub.cc:31] Could not find cuda drivers on your machine, GPU will not be used.\n",
      "2024-03-28 19:29:23.477456: E external/local_xla/xla/stream_executor/cuda/cuda_dnn.cc:9261] Unable to register cuDNN factory: Attempting to register factory for plugin cuDNN when one has already been registered\n",
      "2024-03-28 19:29:23.477523: E external/local_xla/xla/stream_executor/cuda/cuda_fft.cc:607] Unable to register cuFFT factory: Attempting to register factory for plugin cuFFT when one has already been registered\n",
      "2024-03-28 19:29:23.529082: E external/local_xla/xla/stream_executor/cuda/cuda_blas.cc:1515] Unable to register cuBLAS factory: Attempting to register factory for plugin cuBLAS when one has already been registered\n",
      "2024-03-28 19:29:23.617018: I external/local_tsl/tsl/cuda/cudart_stub.cc:31] Could not find cuda drivers on your machine, GPU will not be used.\n",
      "2024-03-28 19:29:23.618615: I tensorflow/core/platform/cpu_feature_guard.cc:182] This TensorFlow binary is optimized to use available CPU instructions in performance-critical operations.\n",
      "To enable the following instructions: AVX2 AVX512F AVX512_VNNI FMA, in other operations, rebuild TensorFlow with the appropriate compiler flags.\n",
      "2024-03-28 19:29:25.122601: W tensorflow/compiler/tf2tensorrt/utils/py_utils.cc:38] TF-TRT Warning: Could not find TensorRT\n"
     ]
    }
   ],
   "source": [
    "# Data treatment\n",
    "import numpy as np\n",
    "import pandas as pd\n",
    "\n",
    "# Figures\n",
    "import matplotlib.pyplot as plt\n",
    "import seaborn as sns\n",
    "\n",
    "# Data preprocessing\n",
    "from sklearn.model_selection import train_test_split\n",
    "\n",
    "# Librerías de Deep Learning\n",
    "from keras import layers, models\n",
    "\n",
    "# Models metrics\n",
    "from sklearn.metrics import roc_curve\n",
    "from sklearn.metrics import roc_auc_score\n",
    "\n",
    "# Warnings configuration\n",
    "import warnings\n",
    "warnings.filterwarnings('ignore')"
   ]
  },
  {
   "cell_type": "markdown",
   "metadata": {},
   "source": [
    "# Funciones"
   ]
  },
  {
   "cell_type": "code",
   "execution_count": 2,
   "metadata": {},
   "outputs": [],
   "source": [
    "# ROC curve function\n",
    "\n",
    "custom_params = {\"axes.spines.right\": False, \"axes.spines.top\": False}\n",
    "sns.set_theme( palette= \"pastel\", style= \"ticks\", rc= custom_params)\n",
    "\n",
    "def plot_roc_curve(models: list, X_test, y_test):\n",
    "    models_name = []\n",
    "    for model in models:\n",
    "        models_name.append(f'{model}'.split('(')[0])\n",
    "\n",
    "    fig = plt.figure(figsize=(10, 6))\n",
    "    entries = []\n",
    "\n",
    "    for i in range(len(models)):\n",
    "        model = models[i]\n",
    "        probs = model.predict_proba(X_test)              # Obtener probabilidades de predicción del modelo\n",
    "        probs = probs[:, 1]                              # Seleccionar la columna correspondiente a la probabilidad de clase positiva\n",
    "        auc = roc_auc_score(y_test, probs)               # Calcular el AUC-ROC\n",
    "        fpr, tpr, _ = roc_curve(y_test, probs)           # Calcular las tasas de FPR y TPR      \n",
    "        plt.plot(fpr, tpr, label=f\"{model.__class__.__name__} (AUC={auc:.2f})\") # Graficar la curva ROC del modelo actual\n",
    "        entries.append(( models_name[i], auc))\n",
    "        #print(\"{:.2f}: {}\".format(auc, model))            # Mostrar el AUC-ROC y el nombre del modelo\n",
    "\n",
    "    df_roc = pd.DataFrame(entries, columns=['Model', 'AUC'])\n",
    "    print(f\" AUC de los modelos con orden descendente \" +\"\\n\" + \"=\"*45)\n",
    "    pd.options.display.max_colwidth = 100\n",
    "    display(df_roc.sort_values(by='AUC', ascending= False))\n",
    "    print(\"\\n\")\n",
    "\n",
    "    plt.plot([0, 1], [0, 1], linestyle='--')\n",
    "    plt.xlabel('False Positive Rate')\n",
    "    plt.ylabel('True Positive Rate')\n",
    "    plt.title('Receiver Operating Characteristic (ROC) Curve')\n",
    "    plt.legend()\n",
    "    plt.show();"
   ]
  },
  {
   "cell_type": "markdown",
   "metadata": {},
   "source": [
    "# Desarrollo"
   ]
  },
  {
   "cell_type": "markdown",
   "metadata": {},
   "source": [
    "### Cargar datos"
   ]
  },
  {
   "cell_type": "code",
   "execution_count": 3,
   "metadata": {},
   "outputs": [
    {
     "data": {
      "text/plain": [
       "array([0.36078431, 0.37254902, 0.39215686, ..., 0.57254902, 0.45098039,\n",
       "       0.32941176])"
      ]
     },
     "execution_count": 3,
     "metadata": {},
     "output_type": "execute_result"
    }
   ],
   "source": [
    "# Cargar X desde el archivo .npy\n",
    "X = np.load('X.npy')\n",
    "X[0]"
   ]
  },
  {
   "cell_type": "code",
   "execution_count": 4,
   "metadata": {},
   "outputs": [
    {
     "data": {
      "text/plain": [
       "1"
      ]
     },
     "execution_count": 4,
     "metadata": {},
     "output_type": "execute_result"
    }
   ],
   "source": [
    "# Cargar y desde el archivo .csv\n",
    "y = pd.read_csv('y.csv')['Salmonella']\n",
    "y[0]"
   ]
  },
  {
   "cell_type": "markdown",
   "metadata": {},
   "source": [
    "### Split train and test"
   ]
  },
  {
   "cell_type": "code",
   "execution_count": 5,
   "metadata": {},
   "outputs": [
    {
     "name": "stdout",
     "output_type": "stream",
     "text": [
      "Tamaño del tren de entrenamiento: (800, 150528)\n",
      "Tamaño de las etiquetas de entrenamiento: (800,)\n",
      "-------\n",
      "Tamaño del tren de prueba: (200, 150528)\n",
      "Tamaño de las etiquetas de prueba: (200,)\n"
     ]
    }
   ],
   "source": [
    "# Dividir el DataFrame en los trenes de entrenamiento y test\n",
    "X_train, X_test, y_train, y_test = train_test_split(X, y,  \n",
    "                                                    train_size= 0.8, \n",
    "                                                    shuffle= True, \n",
    "                                                    random_state= 123, \n",
    "                                                    stratify= y)\n",
    "\n",
    "# Imprimir el tamaño de los trenes de entrenamiento y prueba\n",
    "print(\"Tamaño del tren de entrenamiento:\", X_train.shape)\n",
    "print(\"Tamaño de las etiquetas de entrenamiento:\", y_train.shape)\n",
    "print(\"-------\")\n",
    "print(\"Tamaño del tren de prueba:\", X_test.shape)\n",
    "print(\"Tamaño de las etiquetas de prueba:\", y_test.shape)"
   ]
  },
  {
   "cell_type": "markdown",
   "metadata": {},
   "source": [
    "### Baseline"
   ]
  },
  {
   "cell_type": "code",
   "execution_count": 6,
   "metadata": {},
   "outputs": [
    {
     "name": "stderr",
     "output_type": "stream",
     "text": [
      "2024-03-28 19:29:40.901610: I external/local_xla/xla/stream_executor/cuda/cuda_executor.cc:887] could not open file to read NUMA node: /sys/bus/pci/devices/0000:01:00.0/numa_node\n",
      "Your kernel may have been built without NUMA support.\n",
      "2024-03-28 19:29:40.902378: W tensorflow/core/common_runtime/gpu/gpu_device.cc:2256] Cannot dlopen some GPU libraries. Please make sure the missing libraries mentioned above are installed properly if you would like to use GPU. Follow the guide at https://www.tensorflow.org/install/gpu for how to download and setup the required libraries for your platform.\n",
      "Skipping registering GPU devices...\n"
     ]
    },
    {
     "name": "stdout",
     "output_type": "stream",
     "text": [
      "Model: \"sequential\"\n",
      "_________________________________________________________________\n",
      " Layer (type)                Output Shape              Param #   \n",
      "=================================================================\n",
      " dense (Dense)               (None, 512)               77070848  \n",
      "                                                                 \n",
      " dense_1 (Dense)             (None, 1)                 513       \n",
      "                                                                 \n",
      "=================================================================\n",
      "Total params: 77071361 (294.00 MB)\n",
      "Trainable params: 77071361 (294.00 MB)\n",
      "Non-trainable params: 0 (0.00 Byte)\n",
      "_________________________________________________________________\n"
     ]
    }
   ],
   "source": [
    "# Instanciar el modelo de tipo Sequential\n",
    "model = models.Sequential()\n",
    "\n",
    "# 2. Capa densa de activación con 512 neuronas y una activación de tipo relu\n",
    "model.add(layers.Dense(512, activation='relu', input_shape = (224*224*3,)))\n",
    "\n",
    "# 3. Capa adicional con 1 neuronas (porque tengo 1 posible salida) y una activación tipo sigmoid para clasificación binara\n",
    "model.add(layers.Dense(1, activation='sigmoid'))\n",
    "model.summary()"
   ]
  },
  {
   "cell_type": "code",
   "execution_count": 7,
   "metadata": {},
   "outputs": [],
   "source": [
    "# Compilar el modelo\n",
    "model.compile(loss='binary_crossentropy',\n",
    "            optimizer = 'rmsprop',\n",
    "            metrics ='accuracy')"
   ]
  },
  {
   "cell_type": "code",
   "execution_count": 8,
   "metadata": {},
   "outputs": [],
   "source": [
    "# Cambiar a 2 dimensiones\n",
    "X_train = X_train.reshape(X_train.shape[0], 224*224*3)      \n",
    "X_test = X_test.reshape(X_test.shape[0], 224*224*3)      "
   ]
  },
  {
   "cell_type": "code",
   "execution_count": 9,
   "metadata": {},
   "outputs": [
    {
     "name": "stdout",
     "output_type": "stream",
     "text": [
      "Epoch 1/5\n",
      "8/8 [==============================] - 8s 878ms/step - loss: 297.1038 - accuracy: 0.5063\n",
      "Epoch 2/5\n",
      "8/8 [==============================] - 7s 877ms/step - loss: 154.9640 - accuracy: 0.5088\n",
      "Epoch 3/5\n",
      "8/8 [==============================] - 7s 838ms/step - loss: 125.7963 - accuracy: 0.5050\n",
      "Epoch 4/5\n",
      "8/8 [==============================] - 6s 820ms/step - loss: 120.9531 - accuracy: 0.4688\n",
      "Epoch 5/5\n",
      "8/8 [==============================] - 6s 769ms/step - loss: 100.7939 - accuracy: 0.4863\n"
     ]
    },
    {
     "data": {
      "text/plain": [
       "<keras.src.callbacks.History at 0x7fa744079240>"
      ]
     },
     "execution_count": 9,
     "metadata": {},
     "output_type": "execute_result"
    }
   ],
   "source": [
    "# Entrenar el modelo\n",
    "model.fit(X_train, y_train, batch_size= 100, epochs=5)"
   ]
  },
  {
   "cell_type": "code",
   "execution_count": 10,
   "metadata": {},
   "outputs": [
    {
     "name": "stdout",
     "output_type": "stream",
     "text": [
      "7/7 [==============================] - 1s 93ms/step - loss: 144.8336 - accuracy: 0.5050\n"
     ]
    },
    {
     "data": {
      "text/plain": [
       "[144.83355712890625, 0.5049999952316284]"
      ]
     },
     "execution_count": 10,
     "metadata": {},
     "output_type": "execute_result"
    },
    {
     "ename": "",
     "evalue": "",
     "output_type": "error",
     "traceback": [
      "\u001b[1;31mThe Kernel crashed while executing code in the current cell or a previous cell. \n",
      "\u001b[1;31mPlease review the code in the cell(s) to identify a possible cause of the failure. \n",
      "\u001b[1;31mClick <a href='https://aka.ms/vscodeJupyterKernelCrash'>here</a> for more info. \n",
      "\u001b[1;31mView Jupyter <a href='command:jupyter.viewOutput'>log</a> for further details."
     ]
    }
   ],
   "source": [
    "# Evaluar rendimiento del modelo\n",
    "model.evaluate(X_test, y_test)"
   ]
  },
  {
   "cell_type": "markdown",
   "metadata": {},
   "source": [
    "# Conclusiones"
   ]
  },
  {
   "cell_type": "markdown",
   "metadata": {},
   "source": []
  },
  {
   "cell_type": "markdown",
   "metadata": {},
   "source": [
    "# Bibliografía"
   ]
  },
  {
   "cell_type": "markdown",
   "metadata": {},
   "source": []
  }
 ],
 "metadata": {
  "kernelspec": {
   "display_name": "myenv",
   "language": "python",
   "name": "python3"
  },
  "language_info": {
   "codemirror_mode": {
    "name": "ipython",
    "version": 3
   },
   "file_extension": ".py",
   "mimetype": "text/x-python",
   "name": "python",
   "nbconvert_exporter": "python",
   "pygments_lexer": "ipython3",
   "version": "3.10.12"
  }
 },
 "nbformat": 4,
 "nbformat_minor": 2
}
